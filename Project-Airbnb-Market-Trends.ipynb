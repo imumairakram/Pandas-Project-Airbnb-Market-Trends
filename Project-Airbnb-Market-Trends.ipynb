{
 "cells": [
  {
   "cell_type": "markdown",
   "id": "286896c4-6cfc-48f2-967a-6bdab2633101",
   "metadata": {},
   "source": [
    "## Basic Analysis\n",
    "### 1. Dates of Reviews\n",
    "- What are the dates of the earliest and most recent reviews?"
   ]
  },
  {
   "cell_type": "code",
   "execution_count": 3,
   "id": "5c3b2de3-86d8-4211-bb2f-f2da0fc8de5c",
   "metadata": {},
   "outputs": [],
   "source": [
    "import pandas as pd\n",
    "\n",
    "reviews = pd.read_csv(\"airbnb_last_review.tsv\", sep='\\t')\n",
    "\n",
    "reviews['last_review'] = pd.to_datetime(reviews['last_review'], errors='coerce')\n",
    "\n",
    "earliest_review = reviews['last_review'].min()\n",
    "most_recent_review = reviews['last_review'].max()\n"
   ]
  },
  {
   "cell_type": "code",
   "execution_count": 4,
   "id": "c419a152-43bd-4a9e-acfe-cd210bebe937",
   "metadata": {},
   "outputs": [
    {
     "name": "stdout",
     "output_type": "stream",
     "text": [
      "2019-01-01 00:00:00\n"
     ]
    }
   ],
   "source": [
    "print(earliest_review)"
   ]
  },
  {
   "cell_type": "code",
   "execution_count": 5,
   "id": "2b592019-0bfe-44bc-8f94-2010274d6a9c",
   "metadata": {},
   "outputs": [
    {
     "name": "stdout",
     "output_type": "stream",
     "text": [
      "2019-07-09 00:00:00\n"
     ]
    }
   ],
   "source": [
    "print(most_recent_review)"
   ]
  },
  {
   "cell_type": "markdown",
   "id": "e76ff3d1-5766-4a4e-b97d-01bdcda43efa",
   "metadata": {},
   "source": [
    "## 2. Private Room Listings\n",
    "- Count the number of private room listings."
   ]
  },
  {
   "cell_type": "code",
   "execution_count": 6,
   "id": "0347f191-0a02-4d86-97e1-c1ebf987ec76",
   "metadata": {},
   "outputs": [],
   "source": [
    "import pandas as pd\n",
    "\n",
    "room_types = pd.read_excel(\"airbnb_room_type.xlsx\")\n",
    "\n",
    "nb_private_rooms = room_types[room_types['room_type'] == \"Private room\"].shape[0]"
   ]
  },
  {
   "cell_type": "code",
   "execution_count": 7,
   "id": "6b741df5-bca6-41c4-b2d2-d8075b128129",
   "metadata": {},
   "outputs": [
    {
     "name": "stdout",
     "output_type": "stream",
     "text": [
      "7241\n"
     ]
    }
   ],
   "source": [
    "print(nb_private_rooms)"
   ]
  },
  {
   "cell_type": "markdown",
   "id": "0b088563-cc7f-423c-8dcc-870ec69c2ac1",
   "metadata": {},
   "source": [
    "## 3. Average Price Calculation\n",
    "- Calculate the average listing price."
   ]
  },
  {
   "cell_type": "code",
   "execution_count": 8,
   "id": "e4d41848-6d3a-4559-9707-a63f8bb92976",
   "metadata": {},
   "outputs": [
    {
     "name": "stdout",
     "output_type": "stream",
     "text": [
      "0    225 dollars\n",
      "1     89 dollars\n",
      "2    200 dollars\n",
      "3     79 dollars\n",
      "4    150 dollars\n",
      "Name: price, dtype: object\n"
     ]
    }
   ],
   "source": [
    "import pandas as pd\n",
    "\n",
    "prices = pd.read_csv(\"airbnb_price.csv\")\n",
    "\n",
    "print(prices['price'].head()) \n"
   ]
  },
  {
   "cell_type": "markdown",
   "id": "d5387c9e-3901-476b-99d5-18eb53047c3b",
   "metadata": {},
   "source": [
    "## 4. Summary Table\n",
    "- Combine calculated values into a DataFrame with one row."
   ]
  },
  {
   "cell_type": "code",
   "execution_count": 9,
   "id": "cd2cc4fc-456d-444d-abf9-63ca6101a1bf",
   "metadata": {},
   "outputs": [],
   "source": [
    "import pandas as pd\n",
    "\n",
    "review_dates = pd.DataFrame({\n",
    "    'first_reviewed': [earliest_review],\n",
    "    'last_reviewed': [most_recent_review],\n",
    "    'nb_private_rooms': [nb_private_rooms],\n",
    "    'prices': [prices]\n",
    "})\n"
   ]
  },
  {
   "cell_type": "markdown",
   "id": "a7362d33-f7f2-4544-a898-c4c8e9dca3f9",
   "metadata": {},
   "source": [
    "## Intermediate Analysis\n",
    "### 5. Neighborhood Trends\n",
    "- Identify the top 5 neighborhoods with the highest average prices."
   ]
  },
  {
   "cell_type": "code",
   "execution_count": null,
   "id": "e8cf0d22-ef67-419d-85b2-880e65f12187",
   "metadata": {},
   "outputs": [],
   "source": [
    "import pandas as pd\n",
    "\n",
    "prices = pd.read_csv(\"airbnb_price.csv\")\n",
    "\n",
    "prices[['borough', 'neighborhood']] = prices['nbhood_full'].str.split(', ', expand=True)\n",
    "\n",
    "neighborhood_stats = prices.groupby('neighborhood')['price'].agg(['mean', 'count']).reset_index()\n",
    "neighborhood_stats.columns = ['neighborhood', 'average_price', 'number_of_listings']\n",
    "\n",
    "top_neighborhoods = neighborhood_stats.sort_values(by='average_price', ascending=False).head(5)\n",
    "print(top_neighborhoods)\n"
   ]
  },
  {
   "cell_type": "markdown",
   "id": "36a4d24e-357f-4743-bad1-de834ce9931f",
   "metadata": {},
   "source": [
    "## 6. Word Analysis in Descriptions\n",
    "- Find the top 10 most frequently used words in the description column."
   ]
  },
  {
   "cell_type": "code",
   "execution_count": null,
   "id": "4dda8ad8-0f92-4784-a162-4884b20a7d32",
   "metadata": {},
   "outputs": [],
   "source": [
    "import pandas as pd\n",
    "from collections import Counter\n",
    "from wordcloud import STOPWORDS\n",
    "\n",
    "room_types = pd.read_excel(\"airbnb_room_type.xlsx\")\n",
    "\n",
    "all_descriptions = ' '.join(room_types['description'].dropna()).lower()\n",
    "\n",
    "stopwords = set(STOPWORDS)\n",
    "words = [word for word in all_descriptions.split() if word not in stopwords]\n",
    "\n",
    "word_counts = Counter(words)\n",
    "top_words = word_counts.most_common(10)\n",
    "print(top_words)\n"
   ]
  },
  {
   "cell_type": "markdown",
   "id": "a25d26e5-f312-428a-8b43-cabb9471a6d8",
   "metadata": {},
   "source": [
    "## Advanced Analysis\n",
    "### 7. Room Type Comparison\n",
    "- Compare average prices for each room type and create a bar chart."
   ]
  },
  {
   "cell_type": "code",
   "execution_count": null,
   "id": "fe8288b7-6565-4576-9b48-f50e780e47a1",
   "metadata": {},
   "outputs": [],
   "source": [
    "import pandas as pd\n",
    "import matplotlib.pyplot as plt\n",
    "\n",
    "prices = pd.read_csv(\"airbnb_price.csv\")\n",
    "room_types = pd.read_excel(\"airbnb_room_type.xlsx\")\n",
    "merged_data = pd.merge(prices, room_types, on='listing_id')\n",
    "\n",
    "room_type_prices = merged_data.groupby('room_type')['price'].mean()\n",
    "\n",
    "room_type_prices.plot(kind='bar', color=['skyblue', 'orange', 'green'])\n",
    "plt.title('Average Price by Room Type')\n",
    "plt.xlabel('Room Type')\n",
    "plt.ylabel('Average Price (USD)')\n",
    "plt.show()\n"
   ]
  },
  {
   "cell_type": "markdown",
   "id": "2671b364-d0ae-42d8-918b-804cd78f0f69",
   "metadata": {},
   "source": [
    "## 8. Trend Over Time\n",
    "- Plot the trend of reviews per month."
   ]
  },
  {
   "cell_type": "code",
   "execution_count": null,
   "id": "badf9b7f-9196-48d7-8ca0-0faff59d5159",
   "metadata": {},
   "outputs": [],
   "source": [
    "import pandas as pd\n",
    "import matplotlib.pyplot as plt\n",
    "\n",
    "reviews = pd.read_csv(\"airbnb_last_review.tsv\", sep='\\t')\n",
    "reviews['last_review'] = pd.to_datetime(reviews['last_review'], errors='coerce')\n",
    "\n",
    "reviews['month'] = reviews['last_review'].dt.to_period('M')\n",
    "monthly_reviews = reviews.groupby('month').size()\n",
    "\n",
    "monthly_reviews.plot(kind='line', figsize=(10, 6))\n",
    "plt.title('Trend of Reviews Over Time')\n",
    "plt.xlabel('Month')\n",
    "plt.ylabel('Number of Reviews')\n",
    "plt.show()\n"
   ]
  },
  {
   "cell_type": "markdown",
   "id": "79ec05a6-f128-4644-9464-4ab6aebc5390",
   "metadata": {},
   "source": [
    "### 9.Exploring Unique Matplotlib Functions\r\n",
    "Create a scatter plot with a regression line showing the relationship between price and the length of the description.\r\n",
    "Use matplotlib.axes.Axes.annotate to highlight outliers in the graph. (Note: Students should explore this function independently.)"
   ]
  },
  {
   "cell_type": "code",
   "execution_count": null,
   "id": "f3d91e95-a6d0-4202-a588-3bb62c0cfe0c",
   "metadata": {},
   "outputs": [],
   "source": [
    "import pandas as pd\n",
    "import matplotlib.pyplot as plt\n",
    "import numpy as np\n",
    "\n",
    "prices = pd.read_csv(\"airbnb_price.csv\")\n",
    "room_types = pd.read_excel(\"airbnb_room_type.xlsx\")\n",
    "\n",
    "merged_data = pd.merge(prices, room_types, on='listing_id')\n",
    "\n",
    "merged_data['description_length'] = merged_data['description'].str.len()\n",
    "\n",
    "x = merged_data['description_length']\n",
    "y = merged_data['price']\n",
    "\n",
    "coef = np.polyfit(x, y, 1)\n",
    "reg_line = np.poly1d(coef)\n",
    "\n",
    "plt.figure(figsize=(10, 6))\n",
    "plt.scatter(x, y, alpha=0.5, label=\"Data Points\")\n",
    "plt.plot(x, reg_line(x), color='red', label=\"Regression Line\")\n",
    "\n",
    "outliers = merged_data[merged_data['price'] > 500]\n",
    "for i, row in outliers.iterrows():\n",
    "    plt.annotate(f\"${row['price']}\", (row['description_length'], row['price']), \n",
    "                 textcoords=\"offset points\", xytext=(0, 10), ha='center')\n",
    "\n",
    "plt.title(\"Relationship Between Price and Description Length\")\n",
    "plt.xlabel(\"Description Length (Characters)\")\n",
    "plt.ylabel(\"Price (USD)\")\n",
    "plt.legend()\n",
    "plt.show()\n"
   ]
  },
  {
   "cell_type": "markdown",
   "id": "076f3364-cb54-4ee4-bc06-09d80b364e58",
   "metadata": {},
   "source": [
    "### 10. Exploring Unique Seaborn Functions\n",
    "\n",
    "Generate a strip plot for prices grouped by room_type using the hue parameter to distinguish neighborhoods.\n",
    "Students should explore the seaborn.stripplot function."
   ]
  },
  {
   "cell_type": "code",
   "execution_count": null,
   "id": "0cebedec-c808-41f6-867f-3f41c6bfddd5",
   "metadata": {},
   "outputs": [],
   "source": [
    "import seaborn as sns\n",
    "\n",
    "prices[['borough', 'neighborhood']] = prices['nbhood_full'].str.split(', ', expand=True)\n",
    "merged_data = pd.merge(prices, room_types, on='listing_id')\n",
    "\n",
    "plt.figure(figsize=(12, 6))\n",
    "sns.stripplot(\n",
    "    x='room_type',\n",
    "    y='price',\n",
    "    hue='borough',\n",
    "    data=merged_data,\n",
    "    jitter=True,\n",
    "    dodge=True,\n",
    "    alpha=0.7,\n",
    "    palette='Set2'\n",
    ")\n",
    "\n",
    "plt.title(\"Strip Plot of Prices Grouped by Room Type with Boroughs Highlighted\")\n",
    "plt.xlabel(\"Room Type\")\n",
    "plt.ylabel(\"Price (USD)\")\n",
    "plt.legend(title=\"Borough\", bbox_to_anchor=(1.05, 1), loc='upper left')\n",
    "plt.show()\n"
   ]
  },
  {
   "cell_type": "markdown",
   "id": "09216ec5-7bd8-43aa-bb31-743ab1440252",
   "metadata": {},
   "source": [
    "## Visualization Questions\n",
    "### 11. Bar Chart\n",
    "- Show the count of listings for each room type."
   ]
  },
  {
   "cell_type": "code",
   "execution_count": null,
   "id": "5ccebb34-491e-4504-85a9-300d0bfb9e32",
   "metadata": {},
   "outputs": [],
   "source": [
    "import pandas as pd\n",
    "import matplotlib.pyplot as plt\n",
    "\n",
    "room_type_counts = room_types['room_type'].value_counts()\n",
    "\n",
    "room_type_counts.plot(kind='bar', color=['cyan', 'magenta', 'yellow'])\n",
    "plt.title('Count of Listings by Room Type')\n",
    "plt.xlabel('Room Type')\n",
    "plt.ylabel('Count')\n",
    "plt.show()\n"
   ]
  },
  {
   "cell_type": "markdown",
   "id": "2f3373d8-a183-445f-9d8b-7d4840358c3a",
   "metadata": {},
   "source": [
    "### 12. Heatmap\n",
    "- Show the correlation between listing price and frequency of reviews."
   ]
  },
  {
   "cell_type": "code",
   "execution_count": null,
   "id": "8bc956cc-8836-404c-86bb-de127c030859",
   "metadata": {},
   "outputs": [],
   "source": [
    "import pandas as pd\n",
    "import seaborn as sns\n",
    "import matplotlib.pyplot as plt\n",
    "\n",
    "prices = pd.read_csv(\"airbnb_price.csv\")\n",
    "reviews = pd.read_csv(\"airbnb_last_review.tsv\", sep='\\t')\n",
    "reviews['last_review'] = pd.to_datetime(reviews['last_review'], errors='coerce')\n",
    "merged_data = pd.merge(prices, reviews, on='listing_id')\n",
    "\n",
    "correlation_data = merged_data[['price', 'last_review']].dropna()\n",
    "correlation_matrix = correlation_data.corr()\n",
    "\n",
    "sns.heatmap(correlation_matrix, annot=True, cmap='coolwarm')\n",
    "plt.title('Correlation Heatmap')\n",
    "plt.show()\n"
   ]
  },
  {
   "cell_type": "markdown",
   "id": "8419afa0-c852-4d07-8dfa-ad1b2b871b83",
   "metadata": {},
   "source": [
    "### 13. Pie Chart\n",
    "- Visualize the proportion of room types available."
   ]
  },
  {
   "cell_type": "code",
   "execution_count": null,
   "id": "2d8b48c8-01be-428b-902a-d7ed6cf55aa2",
   "metadata": {},
   "outputs": [],
   "source": [
    "room_type_counts.plot(kind='pie', autopct='%1.1f%%', colors=['skyblue', 'orange', 'green'])\n",
    "plt.title('Proportion of Room Types')\n",
    "plt.ylabel('')\n",
    "plt.show()"
   ]
  },
  {
   "cell_type": "markdown",
   "id": "0990aaf8-ad8c-485c-ac8c-edaf8669a52d",
   "metadata": {},
   "source": [
    "### 14. Histogram\n",
    "- Show the distribution of listing prices."
   ]
  },
  {
   "cell_type": "code",
   "execution_count": null,
   "id": "e68ff60d-275a-4cef-af98-842a2321a0e1",
   "metadata": {},
   "outputs": [],
   "source": [
    "prices['price'].plot(kind='hist', bins=20, color='purple', edgecolor='black')\n",
    "plt.title('Distribution of Listing Prices')\n",
    "plt.xlabel('Price (USD)')\n",
    "plt.ylabel('Frequency')\n",
    "plt.show()\n"
   ]
  },
  {
   "cell_type": "markdown",
   "id": "76c0ba77-aac3-4d95-b978-cc0216421832",
   "metadata": {},
   "source": [
    "### 15. Violin Plot\n",
    "- Compare price distributions across neighborhoods."
   ]
  },
  {
   "cell_type": "code",
   "execution_count": null,
   "id": "f776baf7-d698-4982-9954-29cdadc8519d",
   "metadata": {},
   "outputs": [],
   "source": [
    "\n",
    "sns.violinplot(x='borough', y='price', data=prices, palette='muted')\n",
    "plt.title('Price Distribution by Borough')\n",
    "plt.xlabel('Borough')\n",
    "plt.ylabel('Price (USD)')\n",
    "plt.xticks(rotation=45)\n",
    "plt.show()\n"
   ]
  }
 ],
 "metadata": {
  "kernelspec": {
   "display_name": "Python 3 (ipykernel)",
   "language": "python",
   "name": "python3"
  },
  "language_info": {
   "codemirror_mode": {
    "name": "ipython",
    "version": 3
   },
   "file_extension": ".py",
   "mimetype": "text/x-python",
   "name": "python",
   "nbconvert_exporter": "python",
   "pygments_lexer": "ipython3",
   "version": "3.11.7"
  }
 },
 "nbformat": 4,
 "nbformat_minor": 5
}
